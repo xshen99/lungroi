{
 "cells": [
  {
   "cell_type": "markdown",
   "metadata": {},
   "source": [
    "# Visulization of the first convolutional layer\n",
    "First load the weights."
   ]
  },
  {
   "cell_type": "code",
   "execution_count": 1,
   "metadata": {
    "scrolled": true
   },
   "outputs": [
    {
     "name": "stdout",
     "output_type": "stream",
     "text": [
      "the initial shape of weights is:\t (24, 3, 7, 7)\n",
      "now the shape of weights is:\t\t (24, 7, 7, 3)\n"
     ]
    }
   ],
   "source": [
    "import torch\n",
    "from torch.utils.serialization import load_lua\n",
    "import numpy as np\n",
    "weights = np.array(load_lua('../data/lua/c1_W.t7'))\n",
    "print('the initial shape of weights is:\\t', weights.shape)\n",
    "weights = weights.transpose(0, 2, 3, 1)\n",
    "print('now the shape of weights is:\\t\\t', weights.shape)"
   ]
  },
  {
   "cell_type": "markdown",
   "metadata": {},
   "source": [
    "Now visualize the weights."
   ]
  },
  {
   "cell_type": "code",
   "execution_count": 3,
   "metadata": {},
   "outputs": [
    {
     "data": {
      "image/png": "[encoded data removed]",
      "text/plain": [
       "<matplotlib.figure.Figure at 0x116719828>"
      ]
     },
     "metadata": {},
     "output_type": "display_data"
    }
   ],
   "source": [
    "import math\n",
    "(N, H, W, C) = weights.shape\n",
    "padding = 1\n",
    "ubound = 255.0\n",
    "grid_size = int(math.ceil(math.sqrt(N)))\n",
    "grid_height = H * grid_size + padding * (grid_size - 1)\n",
    "grid_width = W * grid_size + padding * (grid_size - 1)\n",
    "grid = np.zeros((grid_height, grid_width, C))\n",
    "next_idx = 0\n",
    "y0, y1 = 0, H\n",
    "for y in range(grid_size):\n",
    "    x0, x1 = 0, W\n",
    "    for x in range(grid_size):\n",
    "        if next_idx < N:\n",
    "            img = weights[next_idx]\n",
    "            low, high = np.min(img), np.max(img)\n",
    "            grid[y0:y1, x0:x1] = ubound * (img - low) / (high - low)\n",
    "            next_idx += 1\n",
    "        x0 += W + padding\n",
    "        x1 += W + padding\n",
    "    y0 += H + padding\n",
    "    y1 += H + padding\n",
    "\n",
    "from matplotlib import pyplot as plt\n",
    "plt.imshow(grid.astype('uint8'))\n",
    "plt.show()"
   ]
  },
  {
   "cell_type": "code",
   "execution_count": 24,
   "metadata": {},
   "outputs": [
    {
     "data": {
      "text/plain": [
       "(3, 32, 32)"
      ]
     },
     "execution_count": 24,
     "metadata": {},
     "output_type": "execute_result"
    }
   ],
   "source": [
    "import torch\n",
    "from torch.utils.serialization import load_lua\n",
    "import numpy as np\n",
    "data = load_lua('../data/lua/testing.t7')\n",
    "x = np.array(data[777])\n",
    "x.shape"
   ]
  },
  {
   "cell_type": "code",
   "execution_count": 25,
   "metadata": {},
   "outputs": [
    {
     "data": {
      "image/png": "[encoded data removed]",
      "text/plain": [
       "<matplotlib.figure.Figure at 0x11682fbe0>"
      ]
     },
     "metadata": {},
     "output_type": "display_data"
    }
   ],
   "source": [
    "from matplotlib import pyplot as plt\n",
    "\n",
    "x = x.transpose(1,2,0)\n",
    "plt.imshow(x)\n",
    "plt.show()"
   ]
  },
  {
   "cell_type": "code",
   "execution_count": null,
   "metadata": {
    "collapsed": true
   },
   "outputs": [],
   "source": []
  }
 ],
 "metadata": {
  "kernelspec": {
   "display_name": "Python 3",
   "language": "python",
   "name": "python3"
  },
  "language_info": {
   "codemirror_mode": {
    "name": "ipython",
    "version": 3
   },
   "file_extension": ".py",
   "mimetype": "text/x-python",
   "name": "python",
   "nbconvert_exporter": "python",
   "pygments_lexer": "ipython3",
   "version": "3.6.3"
  }
 },
 "nbformat": 4,
 "nbformat_minor": 2
}
